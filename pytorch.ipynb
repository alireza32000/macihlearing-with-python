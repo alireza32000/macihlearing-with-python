{
  "nbformat": 4,
  "nbformat_minor": 0,
  "metadata": {
    "colab": {
      "name": "pytorch.ipynb",
      "private_outputs": true,
      "provenance": [],
      "collapsed_sections": []
    },
    "kernelspec": {
      "name": "python3",
      "display_name": "Python 3"
    },
    "language_info": {
      "name": "python"
    },
    "accelerator": "GPU",
    "gpuClass": "standard"
  },
  "cells": [
    {
      "cell_type": "code",
      "execution_count": null,
      "metadata": {
        "id": "sdG3Hs8yP7Sa"
      },
      "outputs": [],
      "source": [
        "!pip install jovian --upgrade -q\n",
        "import jovian\n",
        "jovian.set_project('01-pytorch-basics')\n",
        "jovian.set_colab_id('1vIsWhlaJfWHTPET5LuGcx4fnGqn3pxXV')"
      ]
    },
    {
      "cell_type": "code",
      "source": [
        "# # Uncomment and run the appropriate command for your operating system, if required\n",
        "\n",
        "# # # Linux / Binder\n",
        "# !pip install numpy torch==1.7.0+cpu torchvision==0.8.1+cpu torchaudio==0.7.0 -f https://download.pytorch.org/whl/torch_stable.html\n",
        "\n",
        "# # # Windows\n",
        "# !pip install numpy torch==1.7.0+cpu torchvision==0.8.1+cpu torchaudio==0.7.0 -f https://download.pytorch.org/whl/torch_stable.html\n",
        "\n",
        "# # # MacOS\n",
        "# !pip install numpy torch torchvision torchaudio"
      ],
      "metadata": {
        "id": "Qov7LBC9SVRW"
      },
      "execution_count": null,
      "outputs": []
    },
    {
      "cell_type": "code",
      "source": [
        "import torch"
      ],
      "metadata": {
        "id": "lbQjtJ1kZxIM"
      },
      "execution_count": null,
      "outputs": []
    },
    {
      "cell_type": "code",
      "source": [
        "t1=torch.tensor(5.)\n",
        "t1"
      ],
      "metadata": {
        "id": "DBwHBZd5Z4Ec"
      },
      "execution_count": null,
      "outputs": []
    },
    {
      "cell_type": "code",
      "source": [
        "t1.dtype"
      ],
      "metadata": {
        "id": "9EbpX0evaRac"
      },
      "execution_count": null,
      "outputs": []
    },
    {
      "cell_type": "code",
      "source": [
        "t2 = torch.tensor([1., 2, 3, 4 , 5, 6])\n",
        "t2"
      ],
      "metadata": {
        "id": "IwQdfmloa5H_"
      },
      "execution_count": null,
      "outputs": []
    },
    {
      "cell_type": "code",
      "source": [
        "# Matrix\n",
        "t3 = torch.tensor([[6., 7],\n",
        "                   [8, 9],\n",
        "                   [10, 11],\n",
        "                   [12, 13]])\n",
        "t3"
      ],
      "metadata": {
        "id": "bgxbmpQPbLC0"
      },
      "execution_count": null,
      "outputs": []
    },
    {
      "cell_type": "code",
      "source": [
        "t3.shape"
      ],
      "metadata": {
        "id": "nf6_GpbocBsu"
      },
      "execution_count": null,
      "outputs": []
    },
    {
      "cell_type": "code",
      "source": [
        "# 3-dimensional array\n",
        "t4 = torch.tensor([\n",
        "                   \n",
        "[[14, 15, 16],\n",
        "[17, 18, 19]],\n",
        "[[20, 21, 22],\n",
        "[23, 24, 25]]])\n",
        "\n",
        "t4"
      ],
      "metadata": {
        "id": "SYCIsk-jdItj"
      },
      "execution_count": null,
      "outputs": []
    },
    {
      "cell_type": "code",
      "source": [
        "print(t1)\n",
        "t1.shape"
      ],
      "metadata": {
        "id": "1QBzRQIbeYIT"
      },
      "execution_count": null,
      "outputs": []
    },
    {
      "cell_type": "code",
      "source": [
        "print(t2)\n",
        "t2.shape"
      ],
      "metadata": {
        "id": "q6NmE30EfFUy"
      },
      "execution_count": null,
      "outputs": []
    },
    {
      "cell_type": "code",
      "source": [
        "print(t3)\n",
        "t3.shape"
      ],
      "metadata": {
        "id": "pWlw9_ApfnLC"
      },
      "execution_count": null,
      "outputs": []
    },
    {
      "cell_type": "code",
      "source": [
        "print(t4)\n",
        "t4.shape"
      ],
      "metadata": {
        "id": "O-islQ65foBa"
      },
      "execution_count": null,
      "outputs": []
    },
    {
      "cell_type": "code",
      "source": [
        "# Note that it's not possible to create tensors with an improper shape.\n",
        "# Matrix\n",
        "# t5 = torch.tensor([[5., 6, 11], \n",
        "#                    [7, 8], \n",
        "#                    [9, 10]])\n",
        "# t5"
      ],
      "metadata": {
        "id": "7ZL5L2zrf_1L"
      },
      "execution_count": null,
      "outputs": []
    },
    {
      "cell_type": "code",
      "source": [
        "#We can combine tensors with the usual arithmetic operations. Let's look at an example:\n",
        "# Create tensors.\n",
        "x = torch.tensor(6.)\n",
        "w = torch.tensor(7.,requires_grad=True)\n",
        "z =torch.tensor(8., requires_grad=True)\n",
        "x, w, z"
      ],
      "metadata": {
        "id": "j2H8Mwi6gJvq"
      },
      "execution_count": null,
      "outputs": []
    },
    {
      "cell_type": "code",
      "source": [
        "# Arithmetic operations\n",
        "y = w * x + z\n",
        "y"
      ],
      "metadata": {
        "id": "66D_BlX1hCWx"
      },
      "execution_count": null,
      "outputs": []
    },
    {
      "cell_type": "code",
      "source": [
        "# As expected, y is a tensor with the value 3 * 4 + 5 = 17. What makes PyTorch unique is that we can automatically\n",
        "#  compute the derivative of y w.r.t. the tensors that have requires_grad set to True i.e. w and b. This feature of PyTorch is called autograd (automatic gradients).\n",
        "# To compute the derivatives, we can invoke the .backward method on our result y.\n",
        "\n",
        "y.backward"
      ],
      "metadata": {
        "id": "FM9PBoGY6Mg0"
      },
      "execution_count": null,
      "outputs": []
    },
    {
      "cell_type": "code",
      "source": [
        "# Display gradients\n",
        "print('dy/dx :',x.grad)\n",
        "print('dy/dw :',w.grad)\n",
        "print('dy/dz :',z.grad)"
      ],
      "metadata": {
        "id": "BtR4hV3W6cCU"
      },
      "execution_count": null,
      "outputs": []
    },
    {
      "cell_type": "markdown",
      "source": [
        "As expected, dy/dw has the same value as x, i.e., 3, and dy/db has the value 1. Note that x.grad is None because x doesn't have requires_grad set to True.\n",
        "\n",
        "The \"grad\" in w.grad is short for gradient, which is another term for derivative. The term gradient is primarily used while dealing with vectors and matrices.\n",
        "\n",
        "#Tensor functions\n",
        "\n",
        "Apart from arithmetic operations, the torch module also contains many functions for creating and manipulating tensors. Let's look at some examples."
      ],
      "metadata": {
        "id": "g2Q-dNbo7tl7"
      }
    },
    {
      "cell_type": "code",
      "source": [
        "# Create a tensor with a fixed value for every element\n",
        "t6 = torch.full((4, 2), 45)\n",
        "t6"
      ],
      "metadata": {
        "id": "fnbEMkVC77Pa"
      },
      "execution_count": null,
      "outputs": []
    },
    {
      "cell_type": "code",
      "source": [
        "# Concatenate two tensors with compatible shapes\n",
        "t7 = torch.cat((t6, t3))\n",
        "t7"
      ],
      "metadata": {
        "id": "C2Lgd3pT8Zh2"
      },
      "execution_count": null,
      "outputs": []
    },
    {
      "cell_type": "code",
      "source": [
        "# Compute the sin of each element\n",
        "t8 =torch.sin(t7)\n",
        "t8"
      ],
      "metadata": {
        "id": "TcPes3tZ9IMb"
      },
      "execution_count": null,
      "outputs": []
    },
    {
      "cell_type": "code",
      "source": [
        "t9 = t8.reshape(4, 2, 2)\n",
        "t9"
      ],
      "metadata": {
        "id": "S_KLydPA9d4G"
      },
      "execution_count": null,
      "outputs": []
    },
    {
      "cell_type": "code",
      "source": [
        "import numpy as np"
      ],
      "metadata": {
        "id": "JqhgJRz59vg7"
      },
      "execution_count": null,
      "outputs": []
    },
    {
      "cell_type": "code",
      "source": [
        "x= np.array([[2, 3],[4, 5.]])\n",
        "x"
      ],
      "metadata": {
        "id": "8elQ80Qh92X5"
      },
      "execution_count": null,
      "outputs": []
    },
    {
      "cell_type": "markdown",
      "source": [
        "We can convert a Numpy array to a PyTorch tensor using torch.from_numpy.\n",
        "\n"
      ],
      "metadata": {
        "id": "VDw4l59T-bPO"
      }
    },
    {
      "cell_type": "code",
      "source": [
        "# Convert the numpy array to a torch tensor.\n",
        "y = torch.from_numpy(x)\n",
        "y"
      ],
      "metadata": {
        "id": "QkP4fmjf-SmL"
      },
      "execution_count": null,
      "outputs": []
    },
    {
      "cell_type": "markdown",
      "source": [
        "Let's verify that the numpy array and torch tensor have similar data types."
      ],
      "metadata": {
        "id": "IZz_1rGE-2tq"
      }
    },
    {
      "cell_type": "code",
      "source": [
        "x.dtype, y.dtype"
      ],
      "metadata": {
        "id": "158atBRs-4Er"
      },
      "execution_count": null,
      "outputs": []
    },
    {
      "cell_type": "code",
      "source": [
        "# Convert a torch tensor to a numpy array\n",
        "z = y.numpy()\n",
        "z"
      ],
      "metadata": {
        "id": "AOj7dEdN-6wL"
      },
      "execution_count": null,
      "outputs": []
    },
    {
      "cell_type": "markdown",
      "source": [
        "The interoperability between PyTorch and Numpy is essential because most datasets you'll work with will likely be read and preprocessed as Numpy arrays.\n",
        "\n",
        "You might wonder why we need a library like PyTorch at all since Numpy already provides data structures and utilities for working with multi-dimensional numeric data. There are two main reasons:\n",
        "\n",
        "Autograd: The ability to automatically compute gradients for tensor operations is essential for training deep learning models.\n",
        "GPU support: While working with massive datasets and large models, PyTorch tensor operations can be performed efficiently using a Graphics Processing Unit (GPU). Computations that might typically take hours can be completed within minutes using GPUs.\n",
        "We'll leverage both these features of PyTorch extensively in this tutorial series.\n",
        "\n",
        "\n",
        "#Save and upload your notebook\n",
        "\n",
        "Whether you're running this Jupyter notebook online or on your computer, it's essential to save your work from time to time. You can continue working on a saved notebook later or share it with friends and colleagues to let them execute your code. Jovian offers an easy way of saving and sharing your Jupyter notebooks online.\n",
        "\n",
        "First, you need to install the Jovian python library if it isn't already installed."
      ],
      "metadata": {
        "id": "dhQhvEqo_eti"
      }
    },
    {
      "cell_type": "code",
      "source": [
        "# !pip install jovian --upgrade --quiet"
      ],
      "metadata": {
        "id": "WKhH8E-S_ztA"
      },
      "execution_count": null,
      "outputs": []
    },
    {
      "cell_type": "code",
      "source": [
        "import jovian"
      ],
      "metadata": {
        "id": "mGQWIpT-_7JS"
      },
      "execution_count": null,
      "outputs": []
    },
    {
      "cell_type": "code",
      "source": [
        "jovian.commit(project='01-pytorch-basics')"
      ],
      "metadata": {
        "id": "eGYEtVGZADqp"
      },
      "execution_count": null,
      "outputs": []
    }
  ]
}